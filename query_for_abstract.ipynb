{
 "cells": [
  {
   "cell_type": "markdown",
   "metadata": {
    "toc": true
   },
   "source": [
    "<h1>Table of Contents<span class=\"tocSkip\"></span></h1>\n",
    "<div class=\"toc\"><ul class=\"toc-item\"><li><span><a href=\"#Code-to-get-Dimensions-CLI-connection-running\" data-toc-modified-id=\"Code-to-get-Dimensions-CLI-connection-running-1\"><span class=\"toc-item-num\">1&nbsp;&nbsp;</span>Code to get Dimensions CLI connection running</a></span></li><li><span><a href=\"#Code-to-get-abstracts-based-on-a-list-of-publication-IDs\" data-toc-modified-id=\"Code-to-get-abstracts-based-on-a-list-of-publication-IDs-2\"><span class=\"toc-item-num\">2&nbsp;&nbsp;</span>Code to get abstracts based on a list of publication IDs</a></span></li></ul></div>"
   ]
  },
  {
   "cell_type": "markdown",
   "metadata": {},
   "source": [
    "This code was authored primarily by JP Walker, with comments + adjustments by Prof. Xanda.\n",
    "\n",
    "## Code to get Dimensions CLI connection running\n",
    "\n",
    "We're using the command line interface to query Dimensions.AI. You can install the Python-friendly `dimcli` library using [these instructions](https://api-lab.dimensions.ai/cookbooks/1-getting-started/1-Using-the-Dimcli-library-to-query-the-API.html)."
   ]
  },
  {
   "cell_type": "code",
   "execution_count": 1,
   "metadata": {},
   "outputs": [],
   "source": [
    "import os\n",
    "import dimcli\n",
    "import csv"
   ]
  },
  {
   "cell_type": "code",
   "execution_count": 2,
   "metadata": {},
   "outputs": [
    {
     "name": "stdout",
     "output_type": "stream",
     "text": [
      "\u001b[2mDimcli - Dimensions API Client (v1.0.2)\u001b[0m\n",
      "\u001b[2mConnected to: <https://app.dimensions.ai/api/dsl> - DSL v2.6\u001b[0m\n",
      "\u001b[2mMethod: manual login\u001b[0m\n"
     ]
    }
   ],
   "source": [
    "API_KEY = \"\"\n",
    "dimcli.login(key=API_KEY, endpoint=\"https://app.dimensions.ai\")"
   ]
  },
  {
   "cell_type": "code",
   "execution_count": 3,
   "metadata": {},
   "outputs": [],
   "source": [
    "# start an interface using the Dimensions Search Language (DSL), a modified\n",
    "# database query syntax\n",
    "dsl = dimcli.Dsl()"
   ]
  },
  {
   "cell_type": "markdown",
   "metadata": {},
   "source": [
    "## Code to get abstracts based on a list of publication IDs\n",
    "\n",
    "The `_getAbstract` function takes the string of an ID, queries Dimensions.AI for the abstract,\n",
    "and pulls it in as a string. `abstractCSV` can take a list of string IDs and pull them into a CSV."
   ]
  },
  {
   "cell_type": "code",
   "execution_count": 7,
   "metadata": {},
   "outputs": [],
   "source": [
    "def _getAbstract(pub_id):\n",
    "    \"\"\"Takes a string ID from Dimensions.ai and returns abstract corresponding to ID\"\"\"\n",
    "    res = dsl.query(f\"\"\"search publications for \\\"{pub_id}\\\" return publications [abstract]\"\"\")\n",
    "    formatted_result = res.json\n",
    "    abstract = formatted_result['publications'][0]['abstract']\n",
    "    return abstract\n",
    "\n",
    "def abstractCSV(ids, csvFileName):\n",
    "    \"\"\"Takes list of string IDs and string of desired CSV fileName. Retrieves abstracts\n",
    "    for each ID, and loads them into a CSV file titled {csvFileName} with\n",
    "    an index, ID, and Abstract column.\"\"\"\n",
    "    with open(csvFileName, 'w') as file:\n",
    "        writer = csv.writer(file)\n",
    "        writer.writerow([\"\", \"ID\", \"Abstract\"])\n",
    "        for i in range(len(ids)):\n",
    "            abstract = _getAbstract(ids[i])\n",
    "            writer.writerow([i+1, ids[i], abstract])\n",
    "    file.close()"
   ]
  },
  {
   "cell_type": "code",
   "execution_count": 6,
   "metadata": {},
   "outputs": [
    {
     "name": "stdout",
     "output_type": "stream",
     "text": [
      "Returned Publications: 1 (total = 1)\n",
      "\u001b[2mTime: 1.24s\u001b[0m\n",
      "Returned Publications: 1 (total = 1)\n",
      "\u001b[2mTime: 0.89s\u001b[0m\n",
      "Returned Publications: 1 (total = 1)\n",
      "\u001b[2mTime: 4.73s\u001b[0m\n"
     ]
    }
   ],
   "source": [
    "# Test case with IDs from \n",
    "# 'title':'Tailpipe, resuspended road dust, and brake-wear emission factors from on-road vehicles'\n",
    "#  ‘id’:’pub.1012273157’\n",
    "# 'title': 'Relationship of Hydrocarbons to Oxidants in Ambient Atmospheres'\n",
    "# 'id': 'pub.1034859593'\n",
    "# 'title':'New and Improved Procedures for Gas Sampling and Analysis in the National Air Sampling Network'\n",
    "# 'id': 'pub.1029962184'\n",
    "\n",
    "abstractCSV([\"pub.1012273157\",\"pub.1034859593\",\"pub.1029962184\"], \"TestCriteriaReportIds.csv\")"
   ]
  },
  {
   "cell_type": "code",
   "execution_count": null,
   "metadata": {},
   "outputs": [],
   "source": []
  }
 ],
 "metadata": {
  "kernelspec": {
   "display_name": "Python 3",
   "language": "python",
   "name": "python3"
  },
  "language_info": {
   "codemirror_mode": {
    "name": "ipython",
    "version": 3
   },
   "file_extension": ".py",
   "mimetype": "text/x-python",
   "name": "python",
   "nbconvert_exporter": "python",
   "pygments_lexer": "ipython3",
   "version": "3.8.5"
  },
  "toc": {
   "base_numbering": 1,
   "nav_menu": {},
   "number_sections": true,
   "sideBar": true,
   "skip_h1_title": false,
   "title_cell": "Table of Contents",
   "title_sidebar": "Contents",
   "toc_cell": true,
   "toc_position": {},
   "toc_section_display": true,
   "toc_window_display": false
  }
 },
 "nbformat": 4,
 "nbformat_minor": 4
}
