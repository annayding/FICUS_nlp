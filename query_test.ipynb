{
 "cells": [
  {
   "cell_type": "code",
   "execution_count": null,
   "metadata": {},
   "outputs": [],
   "source": [
    "# for jupyter notebooks, see: \n",
    "# https://digital-science.github.io/dimcli/getting-started.html#dimcli-with-jupyter-notebooks\n",
    "# https://api-lab.dimensions.ai/cookbooks/1-getting-started/4-Dimcli-magic-commands.html\n",
    "\n",
    "# for working with dataframes: https://github.com/digital-science/dimcli/blob/master/examples/3-Working-with-dataframes.ipynb"
   ]
  },
  {
   "cell_type": "code",
   "execution_count": 5,
   "metadata": {},
   "outputs": [
    {
     "name": "stdout",
     "output_type": "stream",
     "text": [
      "\u001b[2mDimcli - Dimensions API Client (v0.9.9.1)\u001b[0m\n",
      "\u001b[2mConnected to: <https://app.dimensions.ai/api/dsl/v2> - DSL v2.6\u001b[0m\n",
      "\u001b[2mMethod: manual login\u001b[0m\n",
      "====\n",
      "Heads up! The latest Dimcli version is  1.0.2\n",
      "You have installed:  0.9.9.1\n",
      "====\n",
      "Please upgrade: `pip install dimcli -U`\n"
     ]
    }
   ],
   "source": [
    "import os\n",
    "import dimcli\n",
    "import dimcli.utils as du\n",
    "import pandas as pd\n",
    "import numpy as np\n",
    "import query\n",
    "\n",
    "# Dimensions Login & DSL\n",
    "dimcli.login(key=\"02CB1C5A52B5430AA173E8D88F59A986\",  \n",
    "                 endpoint=\"https://app.dimensions.ai/api/dsl/v2\")\n",
    "dsl = dimcli.Dsl()"
   ]
  },
  {
   "cell_type": "code",
   "execution_count": 6,
   "metadata": {},
   "outputs": [
    {
     "data": {
      "text/html": [
       "<div>\n",
       "<style scoped>\n",
       "    .dataframe tbody tr th:only-of-type {\n",
       "        vertical-align: middle;\n",
       "    }\n",
       "\n",
       "    .dataframe tbody tr th {\n",
       "        vertical-align: top;\n",
       "    }\n",
       "\n",
       "    .dataframe thead th {\n",
       "        text-align: right;\n",
       "    }\n",
       "</style>\n",
       "<table border=\"1\" class=\"dataframe\">\n",
       "  <thead>\n",
       "    <tr style=\"text-align: right;\">\n",
       "      <th></th>\n",
       "      <th>Title</th>\n",
       "      <th>Author</th>\n",
       "      <th>Date</th>\n",
       "    </tr>\n",
       "  </thead>\n",
       "  <tbody>\n",
       "    <tr>\n",
       "      <th>0</th>\n",
       "      <td>CPEHS r National Air Pollution Control Adminis...</td>\n",
       "      <td>Air Quality Criteria for Sulfur Oxides. U.S. D...</td>\n",
       "      <td>January 1969.</td>\n",
       "    </tr>\n",
       "    <tr>\n",
       "      <th>1</th>\n",
       "      <td>Ozone Chemistry and Technology.</td>\n",
       "      <td></td>\n",
       "      <td></td>\n",
       "    </tr>\n",
       "    <tr>\n",
       "      <th>2</th>\n",
       "      <td>Some Analyses for PAN and Studies of its Struc...</td>\n",
       "      <td>Nicksic, S.W., J. Harkins, and P.K. Mueller.</td>\n",
       "      <td>J:11-18,January 1967.</td>\n",
       "    </tr>\n",
       "    <tr>\n",
       "      <th>3</th>\n",
       "      <td>Absorptivities for Infrared Determination of P...</td>\n",
       "      <td>Stephens, E.R.</td>\n",
       "      <td>April 1964.</td>\n",
       "    </tr>\n",
       "    <tr>\n",
       "      <th>4</th>\n",
       "      <td>Photochemical Reaction Products in Air Pollution.</td>\n",
       "      <td>Stephens, E.R. et al.</td>\n",
       "      <td>June 1961.</td>\n",
       "    </tr>\n",
       "    <tr>\n",
       "      <th>5</th>\n",
       "      <td>The Photochemical Olefin-Nitrogen Oxides React...</td>\n",
       "      <td>Stephens, E.R.</td>\n",
       "      <td>1961.</td>\n",
       "    </tr>\n",
       "    <tr>\n",
       "      <th>6</th>\n",
       "      <td>Recent Developments in the Study of the Organi...</td>\n",
       "      <td>Stephens, E.R. ct al.</td>\n",
       "      <td>November 1956.</td>\n",
       "    </tr>\n",
       "    <tr>\n",
       "      <th>7</th>\n",
       "      <td>Photochemistry of Air Pollution.</td>\n",
       "      <td>Leighton, P.A.</td>\n",
       "      <td>1961.</td>\n",
       "    </tr>\n",
       "    <tr>\n",
       "      <th>8</th>\n",
       "      <td>Synergistic Effects in the Photooxidation of M...</td>\n",
       "      <td>Bufalini, J.J. and A.P. Altshuller.</td>\n",
       "      <td>February 1967.</td>\n",
       "    </tr>\n",
       "    <tr>\n",
       "      <th>9</th>\n",
       "      <td>Addition of Atoms to Olefins in the Gas Phase.</td>\n",
       "      <td>Cvetanovit, R.J.</td>\n",
       "      <td>1963.</td>\n",
       "    </tr>\n",
       "  </tbody>\n",
       "</table>\n",
       "</div>"
      ],
      "text/plain": [
       "                                               Title  \\\n",
       "0  CPEHS r National Air Pollution Control Adminis...   \n",
       "1                    Ozone Chemistry and Technology.   \n",
       "2  Some Analyses for PAN and Studies of its Struc...   \n",
       "3  Absorptivities for Infrared Determination of P...   \n",
       "4  Photochemical Reaction Products in Air Pollution.   \n",
       "5  The Photochemical Olefin-Nitrogen Oxides React...   \n",
       "6  Recent Developments in the Study of the Organi...   \n",
       "7                   Photochemistry of Air Pollution.   \n",
       "8  Synergistic Effects in the Photooxidation of M...   \n",
       "9     Addition of Atoms to Olefins in the Gas Phase.   \n",
       "\n",
       "                                              Author                   Date  \n",
       "0  Air Quality Criteria for Sulfur Oxides. U.S. D...          January 1969.  \n",
       "1                                                                            \n",
       "2       Nicksic, S.W., J. Harkins, and P.K. Mueller.  J:11-18,January 1967.  \n",
       "3                                     Stephens, E.R.            April 1964.  \n",
       "4                              Stephens, E.R. et al.             June 1961.  \n",
       "5                                     Stephens, E.R.                  1961.  \n",
       "6                              Stephens, E.R. ct al.         November 1956.  \n",
       "7                                     Leighton, P.A.                  1961.  \n",
       "8                Bufalini, J.J. and A.P. Altshuller.         February 1967.  \n",
       "9                                   Cvetanovit, R.J.                  1963.  "
      ]
     },
     "execution_count": 6,
     "metadata": {},
     "output_type": "execute_result"
    }
   ],
   "source": [
    "df = pd.read_csv(\"/Users/ading/Downloads/csv_refs_v2/1970_AIR_QUALITY_CRITERIA_FOR_PHOTOCHEMICAL_OXIDANTS_ocr_OCR.csv\")\n",
    "df_titles_years = df[[\"Title\", \"Author\", \"Date\"]]\n",
    "\n",
    "subset_df = df_titles_years[0:10]\n",
    "subset_df\n"
   ]
  },
  {
   "cell_type": "code",
   "execution_count": 7,
   "metadata": {},
   "outputs": [
    {
     "name": "stdout",
     "output_type": "stream",
     "text": [
      "January 1969.\n",
      "1969\n",
      "Returned Errors: 1\n",
      "\u001b[2mTime: 0.83s\u001b[0m\n",
      "Query Error\n",
      "4 QuerySyntaxErrors found\n",
      "\n",
      "3 LexerErrors found\n",
      "  * [Line 5:68] ('U.S. DHE W, PHS,') token recognition error at: 'U.'\n",
      "  * [Line 5:70] ('S. DHE W, PHS,') token recognition error at: 'S.'\n",
      "  * [Line 5:77] ('W, PHS,') token recognition error at: 'W,'\n",
      "\n",
      "1 ParserError found\n",
      "  * [Line 5:12] ('where') mismatched input 'where' expecting <EOF>\n",
      " \n"
     ]
    },
    {
     "ename": "AttributeError",
     "evalue": "'NoneType' object has no attribute 'group'",
     "output_type": "error",
     "traceback": [
      "\u001b[0;31m---------------------------------------------------------------------------\u001b[0m",
      "\u001b[0;31mAttributeError\u001b[0m                            Traceback (most recent call last)",
      "\u001b[0;32m/var/folders/xt/0g4t2t056w727spvrvgrswhm0000gn/T/ipykernel_12899/4060190136.py\u001b[0m in \u001b[0;36m<module>\u001b[0;34m\u001b[0m\n\u001b[1;32m     10\u001b[0m     \u001b[0;31m# format YYYY\u001b[0m\u001b[0;34m\u001b[0m\u001b[0;34m\u001b[0m\u001b[0m\n\u001b[1;32m     11\u001b[0m     \u001b[0mprint\u001b[0m\u001b[0;34m(\u001b[0m\u001b[0mdate\u001b[0m\u001b[0;34m)\u001b[0m\u001b[0;34m\u001b[0m\u001b[0;34m\u001b[0m\u001b[0m\n\u001b[0;32m---> 12\u001b[0;31m     \u001b[0myear\u001b[0m \u001b[0;34m=\u001b[0m \u001b[0mquery\u001b[0m\u001b[0;34m.\u001b[0m\u001b[0mextract_year\u001b[0m\u001b[0;34m(\u001b[0m\u001b[0mdate\u001b[0m\u001b[0;34m)\u001b[0m\u001b[0;34m\u001b[0m\u001b[0;34m\u001b[0m\u001b[0m\n\u001b[0m\u001b[1;32m     13\u001b[0m     \u001b[0mprint\u001b[0m\u001b[0;34m(\u001b[0m\u001b[0myear\u001b[0m\u001b[0;34m)\u001b[0m\u001b[0;34m\u001b[0m\u001b[0;34m\u001b[0m\u001b[0m\n\u001b[1;32m     14\u001b[0m     \u001b[0;31m# get first author last name\u001b[0m\u001b[0;34m\u001b[0m\u001b[0;34m\u001b[0m\u001b[0m\n",
      "\u001b[0;32m~/research/FICUS_nlp/query.py\u001b[0m in \u001b[0;36mextract_year\u001b[0;34m(date)\u001b[0m\n\u001b[1;32m     45\u001b[0m     \"\"\"\n\u001b[1;32m     46\u001b[0m     \u001b[0mregex\u001b[0m \u001b[0;34m=\u001b[0m \u001b[0;34m\"\\d\\d\\d\\d\"\u001b[0m\u001b[0;34m\u001b[0m\u001b[0;34m\u001b[0m\u001b[0m\n\u001b[0;32m---> 47\u001b[0;31m     \u001b[0;32mreturn\u001b[0m \u001b[0mre\u001b[0m\u001b[0;34m.\u001b[0m\u001b[0msearch\u001b[0m\u001b[0;34m(\u001b[0m\u001b[0mregex\u001b[0m\u001b[0;34m,\u001b[0m \u001b[0mdate\u001b[0m\u001b[0;34m)\u001b[0m\u001b[0;34m.\u001b[0m\u001b[0mgroup\u001b[0m\u001b[0;34m(\u001b[0m\u001b[0;34m)\u001b[0m\u001b[0;34m\u001b[0m\u001b[0;34m\u001b[0m\u001b[0m\n\u001b[0m\u001b[1;32m     48\u001b[0m \u001b[0;34m\u001b[0m\u001b[0m\n\u001b[1;32m     49\u001b[0m \u001b[0;32mdef\u001b[0m \u001b[0mquery_exact_title_year\u001b[0m\u001b[0;34m(\u001b[0m\u001b[0mtitle\u001b[0m\u001b[0;34m,\u001b[0m \u001b[0myear\u001b[0m\u001b[0;34m)\u001b[0m\u001b[0;34m:\u001b[0m\u001b[0;34m\u001b[0m\u001b[0;34m\u001b[0m\u001b[0m\n",
      "\u001b[0;31mAttributeError\u001b[0m: 'NoneType' object has no attribute 'group'"
     ]
    }
   ],
   "source": [
    "query_result_array = []\n",
    "positive_results = pd.DataFrame()\n",
    "negative_results = pd.DataFrame()\n",
    "dateless = pd.DataFrame()\n",
    "bad_format = pd.DataFrame()\n",
    "\n",
    "for index, [title, author, date] in subset_df.iterrows():\n",
    "    # remove colons/brackets    \n",
    "    title = query.format_title(title)\n",
    "    # format YYYY\n",
    "    print(date)\n",
    "    year = query.extract_year(date)\n",
    "    print(year)\n",
    "    # get first author last name\n",
    "    first_author = query.get_first_author(author)\n",
    "    \n",
    "    query_res = query.query_fuzzy_title_year_author(title, year, author)\n",
    "    query_df = dsl.query(query_res).as_dataframe()\n",
    "\n",
    "    # Separate into succesful/unsuccesful references\n",
    "    if query_df is None:\n",
    "        negative_results = pd.concat([negative_results, df.iloc[index].to_frame().T], axis=0)\n",
    "    elif len(query_df) == 0:\n",
    "        negative_results = pd.concat([negative_results, df.iloc[index].to_frame().T], axis=0)\n",
    "    else:\n",
    "        query_result_array.append(query_df)\n",
    "\n",
    "if len(query_result_array) != 0:\n",
    "    positive_results = pd.concat(query_result_array).drop_duplicates(subset='id')\n",
    "\n",
    "positive_results"
   ]
  },
  {
   "cell_type": "code",
   "execution_count": null,
   "metadata": {},
   "outputs": [],
   "source": [
    "# Subset query with title filter\n",
    "\n",
    "query_results = []\n",
    "\n",
    "for index, element in subset_df.iterrows():\n",
    "\n",
    "    title = element[0]\n",
    "    year = int(element[1][-5:-1])\n",
    "\n",
    "    query = f\"\"\"\n",
    "            search publications in title_only \n",
    "                for \"{du.dsl_escape(title)}\" \n",
    "            return publications limit 10\n",
    "            \"\"\"\n",
    "\n",
    "    df = dsl.query(query).as_dataframe()\n",
    "    query_results.append(df)\n",
    "\n",
    "df = pd.concat(query_results).\\\n",
    "   drop_duplicates(subset='id')"
   ]
  },
  {
   "cell_type": "code",
   "execution_count": null,
   "metadata": {},
   "outputs": [],
   "source": [
    "df"
   ]
  },
  {
   "cell_type": "code",
   "execution_count": null,
   "metadata": {},
   "outputs": [],
   "source": [
    "# Full query (94 references) with title, year filters\n",
    "\n",
    "query_results = []\n",
    "\n",
    "for index, element in df_titles_years.iterrows():\n",
    "\n",
    "    title = element[0]\n",
    "    year = int(element[1][-5:-1])\n",
    "\n",
    "    query = f\"\"\"\n",
    "            search publications in title_only \n",
    "                for \"{dsl_escape(title)}\" \n",
    "                where year = {year}\n",
    "            return publications limit 10\n",
    "            \"\"\"\n",
    "\n",
    "    df = dsl.query(query).as_dataframe()\n",
    "    query_results.append(df)\n",
    "\n",
    "df = pd.concat(query_results).\\\n",
    "   drop_duplicates(subset='id')\n",
    "\n",
    "# Note that the resulting df has some elements with type = \"chapter\" instead of \"article\"\n",
    "# Also note that some titles don't make sense"
   ]
  },
  {
   "cell_type": "code",
   "execution_count": null,
   "metadata": {},
   "outputs": [],
   "source": [
    "df"
   ]
  },
  {
   "cell_type": "code",
   "execution_count": null,
   "metadata": {},
   "outputs": [],
   "source": []
  },
  {
   "cell_type": "code",
   "execution_count": null,
   "metadata": {},
   "outputs": [],
   "source": []
  }
 ],
 "metadata": {
  "kernelspec": {
   "display_name": "base",
   "language": "python",
   "name": "python3"
  },
  "language_info": {
   "codemirror_mode": {
    "name": "ipython",
    "version": 3
   },
   "file_extension": ".py",
   "mimetype": "text/x-python",
   "name": "python",
   "nbconvert_exporter": "python",
   "pygments_lexer": "ipython3",
   "version": "3.9.13"
  },
  "orig_nbformat": 4,
  "vscode": {
   "interpreter": {
    "hash": "e2aa6d4777433b4ccf4d470115ef78a429bde488d14ff99c6ed5c153141d3080"
   }
  }
 },
 "nbformat": 4,
 "nbformat_minor": 2
}
